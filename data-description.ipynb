{
 "cells": [
  {
   "cell_type": "code",
   "execution_count": null,
   "id": "226d65a0",
   "metadata": {},
   "outputs": [],
   "source": [
    "Ich möchte das Datenfeld \"Close\" berechnen."
   ]
  },
  {
   "cell_type": "code",
   "execution_count": 2,
   "id": "c66d1719",
   "metadata": {},
   "outputs": [
    {
     "name": "stdout",
     "output_type": "stream",
     "text": [
      "Requirement already satisfied: pandas in c:\\python310\\lib\\site-packages (1.4.1)\n",
      "Requirement already satisfied: python-dateutil>=2.8.1 in c:\\python310\\lib\\site-packages (from pandas) (2.8.2)\n",
      "Requirement already satisfied: numpy>=1.21.0 in c:\\python310\\lib\\site-packages (from pandas) (1.22.2)\n",
      "Requirement already satisfied: pytz>=2020.1 in c:\\python310\\lib\\site-packages (from pandas) (2021.3)\n",
      "Requirement already satisfied: six>=1.5 in c:\\python310\\lib\\site-packages (from python-dateutil>=2.8.1->pandas) (1.16.0)\n"
     ]
    },
    {
     "name": "stderr",
     "output_type": "stream",
     "text": [
      "WARNING: You are using pip version 21.2.4; however, version 22.0.4 is available.\n",
      "You should consider upgrading via the 'C:\\Python310\\python.exe -m pip install --upgrade pip' command.\n"
     ]
    }
   ],
   "source": [
    "!pip install pandas"
   ]
  },
  {
   "cell_type": "code",
   "execution_count": 7,
   "id": "25ab4ab2",
   "metadata": {},
   "outputs": [],
   "source": [
    "import os\n",
    "import pandas as pd\n",
    "\n",
    "marketdata = pd.read_csv(os.path.join(\"datasets/\", \"DataSet_Excel_Cleaned_final.csv\"))"
   ]
  },
  {
   "cell_type": "code",
   "execution_count": 8,
   "id": "94225638",
   "metadata": {
    "scrolled": true
   },
   "outputs": [
    {
     "data": {
      "text/html": [
       "<div>\n",
       "<style scoped>\n",
       "    .dataframe tbody tr th:only-of-type {\n",
       "        vertical-align: middle;\n",
       "    }\n",
       "\n",
       "    .dataframe tbody tr th {\n",
       "        vertical-align: top;\n",
       "    }\n",
       "\n",
       "    .dataframe thead th {\n",
       "        text-align: right;\n",
       "    }\n",
       "</style>\n",
       "<table border=\"1\" class=\"dataframe\">\n",
       "  <thead>\n",
       "    <tr style=\"text-align: right;\">\n",
       "      <th></th>\n",
       "      <th>Index</th>\n",
       "      <th>Date</th>\n",
       "      <th>Open</th>\n",
       "      <th>High</th>\n",
       "      <th>Low</th>\n",
       "      <th>Close</th>\n",
       "      <th>Adj Close</th>\n",
       "      <th>Volume</th>\n",
       "      <th>CloseUSD</th>\n",
       "    </tr>\n",
       "  </thead>\n",
       "  <tbody>\n",
       "    <tr>\n",
       "      <th>0</th>\n",
       "      <td>4</td>\n",
       "      <td>05/01/1965</td>\n",
       "      <td>1257.719971</td>\n",
       "      <td>1257.719971</td>\n",
       "      <td>1257.719971</td>\n",
       "      <td>1257.719971</td>\n",
       "      <td>1257.719971</td>\n",
       "      <td>0</td>\n",
       "      <td>12.577200</td>\n",
       "    </tr>\n",
       "    <tr>\n",
       "      <th>1</th>\n",
       "      <td>4</td>\n",
       "      <td>06/01/1965</td>\n",
       "      <td>1263.989990</td>\n",
       "      <td>1263.989990</td>\n",
       "      <td>1263.989990</td>\n",
       "      <td>1263.989990</td>\n",
       "      <td>1263.989990</td>\n",
       "      <td>0</td>\n",
       "      <td>12.639900</td>\n",
       "    </tr>\n",
       "    <tr>\n",
       "      <th>2</th>\n",
       "      <td>4</td>\n",
       "      <td>07/01/1965</td>\n",
       "      <td>1274.270020</td>\n",
       "      <td>1274.270020</td>\n",
       "      <td>1274.270020</td>\n",
       "      <td>1274.270020</td>\n",
       "      <td>1274.270020</td>\n",
       "      <td>0</td>\n",
       "      <td>12.742700</td>\n",
       "    </tr>\n",
       "    <tr>\n",
       "      <th>3</th>\n",
       "      <td>4</td>\n",
       "      <td>08/01/1965</td>\n",
       "      <td>1286.430054</td>\n",
       "      <td>1286.430054</td>\n",
       "      <td>1286.430054</td>\n",
       "      <td>1286.430054</td>\n",
       "      <td>1286.430054</td>\n",
       "      <td>0</td>\n",
       "      <td>12.864301</td>\n",
       "    </tr>\n",
       "    <tr>\n",
       "      <th>4</th>\n",
       "      <td>4</td>\n",
       "      <td>12/01/1965</td>\n",
       "      <td>1288.540039</td>\n",
       "      <td>1288.540039</td>\n",
       "      <td>1288.540039</td>\n",
       "      <td>1288.540039</td>\n",
       "      <td>1288.540039</td>\n",
       "      <td>0</td>\n",
       "      <td>12.885400</td>\n",
       "    </tr>\n",
       "    <tr>\n",
       "      <th>5</th>\n",
       "      <td>4</td>\n",
       "      <td>13/01/1965</td>\n",
       "      <td>1281.670044</td>\n",
       "      <td>1281.670044</td>\n",
       "      <td>1281.670044</td>\n",
       "      <td>1281.670044</td>\n",
       "      <td>1281.670044</td>\n",
       "      <td>0</td>\n",
       "      <td>12.816700</td>\n",
       "    </tr>\n",
       "    <tr>\n",
       "      <th>6</th>\n",
       "      <td>4</td>\n",
       "      <td>14/01/1965</td>\n",
       "      <td>1289.500000</td>\n",
       "      <td>1289.500000</td>\n",
       "      <td>1289.500000</td>\n",
       "      <td>1289.500000</td>\n",
       "      <td>1289.500000</td>\n",
       "      <td>0</td>\n",
       "      <td>12.895000</td>\n",
       "    </tr>\n",
       "    <tr>\n",
       "      <th>7</th>\n",
       "      <td>4</td>\n",
       "      <td>18/01/1965</td>\n",
       "      <td>1271.680054</td>\n",
       "      <td>1271.680054</td>\n",
       "      <td>1271.680054</td>\n",
       "      <td>1271.680054</td>\n",
       "      <td>1271.680054</td>\n",
       "      <td>0</td>\n",
       "      <td>12.716801</td>\n",
       "    </tr>\n",
       "    <tr>\n",
       "      <th>8</th>\n",
       "      <td>4</td>\n",
       "      <td>19/01/1965</td>\n",
       "      <td>1270.339966</td>\n",
       "      <td>1270.339966</td>\n",
       "      <td>1270.339966</td>\n",
       "      <td>1270.339966</td>\n",
       "      <td>1270.339966</td>\n",
       "      <td>0</td>\n",
       "      <td>12.703400</td>\n",
       "    </tr>\n",
       "    <tr>\n",
       "      <th>9</th>\n",
       "      <td>4</td>\n",
       "      <td>20/01/1965</td>\n",
       "      <td>1268.880005</td>\n",
       "      <td>1268.880005</td>\n",
       "      <td>1268.880005</td>\n",
       "      <td>1268.880005</td>\n",
       "      <td>1268.880005</td>\n",
       "      <td>0</td>\n",
       "      <td>12.688800</td>\n",
       "    </tr>\n",
       "  </tbody>\n",
       "</table>\n",
       "</div>"
      ],
      "text/plain": [
       "   Index        Date         Open         High          Low        Close  \\\n",
       "0      4  05/01/1965  1257.719971  1257.719971  1257.719971  1257.719971   \n",
       "1      4  06/01/1965  1263.989990  1263.989990  1263.989990  1263.989990   \n",
       "2      4  07/01/1965  1274.270020  1274.270020  1274.270020  1274.270020   \n",
       "3      4  08/01/1965  1286.430054  1286.430054  1286.430054  1286.430054   \n",
       "4      4  12/01/1965  1288.540039  1288.540039  1288.540039  1288.540039   \n",
       "5      4  13/01/1965  1281.670044  1281.670044  1281.670044  1281.670044   \n",
       "6      4  14/01/1965  1289.500000  1289.500000  1289.500000  1289.500000   \n",
       "7      4  18/01/1965  1271.680054  1271.680054  1271.680054  1271.680054   \n",
       "8      4  19/01/1965  1270.339966  1270.339966  1270.339966  1270.339966   \n",
       "9      4  20/01/1965  1268.880005  1268.880005  1268.880005  1268.880005   \n",
       "\n",
       "     Adj Close  Volume   CloseUSD  \n",
       "0  1257.719971       0  12.577200  \n",
       "1  1263.989990       0  12.639900  \n",
       "2  1274.270020       0  12.742700  \n",
       "3  1286.430054       0  12.864301  \n",
       "4  1288.540039       0  12.885400  \n",
       "5  1281.670044       0  12.816700  \n",
       "6  1289.500000       0  12.895000  \n",
       "7  1271.680054       0  12.716801  \n",
       "8  1270.339966       0  12.703400  \n",
       "9  1268.880005       0  12.688800  "
      ]
     },
     "execution_count": 8,
     "metadata": {},
     "output_type": "execute_result"
    }
   ],
   "source": [
    "marketdata.head(10)"
   ]
  },
  {
   "cell_type": "code",
   "execution_count": 9,
   "id": "f766d720",
   "metadata": {},
   "outputs": [
    {
     "data": {
      "text/plain": [
       "12852.286238749892"
      ]
     },
     "execution_count": 9,
     "metadata": {},
     "output_type": "execute_result"
    }
   ],
   "source": [
    "marketdata[\"Open\"].mean()"
   ]
  },
  {
   "cell_type": "code",
   "execution_count": 10,
   "id": "f7036a56",
   "metadata": {},
   "outputs": [
    {
     "data": {
      "text/plain": [
       "11802.810055"
      ]
     },
     "execution_count": 10,
     "metadata": {},
     "output_type": "execute_result"
    }
   ],
   "source": [
    "marketdata[\"Open\"].median()"
   ]
  },
  {
   "cell_type": "code",
   "execution_count": 11,
   "id": "93eeb949",
   "metadata": {},
   "outputs": [
    {
     "data": {
      "text/plain": [
       "12919.694377091539"
      ]
     },
     "execution_count": 11,
     "metadata": {},
     "output_type": "execute_result"
    }
   ],
   "source": [
    "marketdata[\"High\"].mean()"
   ]
  },
  {
   "cell_type": "code",
   "execution_count": 12,
   "id": "bbf66bbe",
   "metadata": {},
   "outputs": [
    {
     "data": {
      "text/plain": [
       "11848.575195"
      ]
     },
     "execution_count": 12,
     "metadata": {},
     "output_type": "execute_result"
    }
   ],
   "source": [
    "marketdata[\"High\"].median()"
   ]
  },
  {
   "cell_type": "code",
   "execution_count": 13,
   "id": "c560fd2b",
   "metadata": {},
   "outputs": [
    {
     "data": {
      "text/plain": [
       "12778.636383209312"
      ]
     },
     "execution_count": 13,
     "metadata": {},
     "output_type": "execute_result"
    }
   ],
   "source": [
    "marketdata[\"Low\"].mean()"
   ]
  },
  {
   "cell_type": "code",
   "execution_count": 14,
   "id": "e7c32ee9",
   "metadata": {},
   "outputs": [
    {
     "data": {
      "text/plain": [
       "11718.839844999999"
      ]
     },
     "execution_count": 14,
     "metadata": {},
     "output_type": "execute_result"
    }
   ],
   "source": [
    "marketdata[\"Low\"].median()"
   ]
  },
  {
   "cell_type": "code",
   "execution_count": 15,
   "id": "7a979f3f",
   "metadata": {},
   "outputs": [
    {
     "data": {
      "text/plain": [
       "12849.155196632697"
      ]
     },
     "execution_count": 15,
     "metadata": {},
     "output_type": "execute_result"
    }
   ],
   "source": [
    "marketdata[\"Close\"].mean()"
   ]
  },
  {
   "cell_type": "code",
   "execution_count": 16,
   "id": "bcbb1487",
   "metadata": {},
   "outputs": [
    {
     "data": {
      "text/plain": [
       "11785.91504"
      ]
     },
     "execution_count": 16,
     "metadata": {},
     "output_type": "execute_result"
    }
   ],
   "source": [
    "marketdata[\"Close\"].median()"
   ]
  },
  {
   "cell_type": "code",
   "execution_count": 18,
   "id": "f481a7de",
   "metadata": {},
   "outputs": [
    {
     "data": {
      "image/png": "[encoded data removed]",
      "text/plain": [
       "<Figure size 432x288 with 1 Axes>"
      ]
     },
     "metadata": {
      "needs_background": "light"
     },
     "output_type": "display_data"
    }
   ],
   "source": [
    "import matplotlib.pyplot as plt\n",
    "\n",
    "fig, ax = plt.subplots()\n",
    "\n",
    "ax.plot( marketdata[\"Date\"], marketdata[\"Open\"].dropna(), linewidth=0.5)\n",
    "\n",
    "plt.title(\"Open Price history\")\n",
    "plt.xlabel(\"Date\")\n",
    "plt.ylabel(\"Price\")\n",
    "\n",
    "plt.show()"
   ]
  },
  {
   "cell_type": "code",
   "execution_count": 18,
   "id": "7eb03d9d",
   "metadata": {},
   "outputs": [
    {
     "data": {
      "text/plain": [
       "count    13874.000000\n",
       "mean         0.066806\n",
       "std          0.107136\n",
       "min          0.000000\n",
       "25%          0.000000\n",
       "50%          0.000000\n",
       "75%          0.133233\n",
       "max          1.000000\n",
       "Name: volume_normalised, dtype: float64"
      ]
     },
     "execution_count": 18,
     "metadata": {},
     "output_type": "execute_result"
    }
   ],
   "source": [
    "mdV = marketdata[\"Volume\"]\n",
    "marketdata[\"volume_normalised\"] = (mdV-mdV.min())/(mdV.max()-mdV.min())\n",
    "marketdata[\"volume_normalised\"].describe()"
   ]
  },
  {
   "cell_type": "code",
   "execution_count": null,
   "id": "a1eb0e22",
   "metadata": {},
   "outputs": [],
   "source": []
  }
 ],
 "metadata": {
  "kernelspec": {
   "display_name": "Python 3 (ipykernel)",
   "language": "python",
   "name": "python3"
  },
  "language_info": {
   "codemirror_mode": {
    "name": "ipython",
    "version": 3
   },
   "file_extension": ".py",
   "mimetype": "text/x-python",
   "name": "python",
   "nbconvert_exporter": "python",
   "pygments_lexer": "ipython3",
   "version": "3.10.2"
  }
 },
 "nbformat": 4,
 "nbformat_minor": 5
}
