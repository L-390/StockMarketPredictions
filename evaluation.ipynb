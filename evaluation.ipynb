{
 "cells": [
  {
   "cell_type": "code",
   "execution_count": 37,
   "id": "63d185ed",
   "metadata": {},
   "outputs": [
    {
     "data": {
      "text/plain": [
       "GaussianNB()"
      ]
     },
     "execution_count": 37,
     "metadata": {},
     "output_type": "execute_result"
    }
   ],
   "source": [
    "import joblib\n",
    "joblib.dump(algorithms[\"Naive Bayes\"], 'stockmarket.joblib')\n",
    "best_model = joblib.load('stockmarket.joblib')\n",
    "best_model"
   ]
  },
  {
   "cell_type": "code",
   "execution_count": 68,
   "id": "4f50c651",
   "metadata": {},
   "outputs": [],
   "source": [
    "predict1 = pd.DataFrame([[1939.369995, 0, 1939.369995, 1939.369995]], columns=X_train.columns)\n",
    "predict1 = scale(predict1, [\"Open\", \"Volume\", \"Low\", \"High\"], standard_scaler)\n",
    "\n",
    "predict2 = pd.DataFrame([[16504.99023, 112200000, 16385.0293, 16515.83984]], columns=X_train.columns)\n",
    "predict2 = scale(predict2, [\"Open\", \"Volume\", \"Low\", \"High\"], standard_scaler)\n",
    "\n",
    "predict3 = pd.DataFrame([[16504.99023, 0, 1253.869995, 1253.869995]], columns=X_train.columns)\n",
    "predict3 = scale(predict3, [\"Open\", \"Volume\", \"Low\", \"High\"], standard_scaler)\n",
    "\n",
    "predict4 = pd.DataFrame([[18191.89063, 88700000, 18191.89063, 18295.26953]], columns=X_train.columns)\n",
    "predict4 = scale(predict4, [\"Open\", \"Volume\", \"Low\", \"High\"], standard_scaler)"
   ]
  },
  {
   "cell_type": "code",
   "execution_count": 69,
   "id": "00ad97f0",
   "metadata": {},
   "outputs": [
    {
     "name": "stdout",
     "output_type": "stream",
     "text": [
      "predict1 1939\n",
      "predict2 16465\n",
      "predict3 22898\n",
      "predict4 18221\n",
      "predict5 21457\n"
     ]
    }
   ],
   "source": [
    "predictions = best_model.predict(pd.concat([predict1, predict2, predict3, predict4]))\n",
    "for values, prediction in zip([\"predict1\", \"predict2\", \"predict3\", \"predict4\"], predictions):\n",
    "    print(f\"{values} {prediction}\")"
   ]
  },
  {
   "cell_type": "markdown",
   "id": "365bad8f",
   "metadata": {},
   "source": [
    "Die Voraussagen des Algorithmus sind überraschender Weise relativ genau. Es gibt manche Abweichungen, die sind jedoch nicht sehr extrem und für mich in einem akzeptablem Bereich. Es hat darunter auch Vorhersagen welche genau die korrekten Werte hatte. Für die Test Daten habe ich einfach zufällige Daten aus dem Test Datensatz ausgewählt."
   ]
  },
  {
   "cell_type": "code",
   "execution_count": 59,
   "id": "49659c3b",
   "metadata": {},
   "outputs": [
    {
     "data": {
      "text/html": [
       "<div>\n",
       "<style scoped>\n",
       "    .dataframe tbody tr th:only-of-type {\n",
       "        vertical-align: middle;\n",
       "    }\n",
       "\n",
       "    .dataframe tbody tr th {\n",
       "        vertical-align: top;\n",
       "    }\n",
       "\n",
       "    .dataframe thead th {\n",
       "        text-align: right;\n",
       "    }\n",
       "</style>\n",
       "<table border=\"1\" class=\"dataframe\">\n",
       "  <thead>\n",
       "    <tr style=\"text-align: right;\">\n",
       "      <th></th>\n",
       "      <th>Open</th>\n",
       "      <th>Volume</th>\n",
       "      <th>Low</th>\n",
       "      <th>High</th>\n",
       "    </tr>\n",
       "  </thead>\n",
       "  <tbody>\n",
       "    <tr>\n",
       "      <th>12732</th>\n",
       "      <td>0.451176</td>\n",
       "      <td>1.327331</td>\n",
       "      <td>0.455107</td>\n",
       "      <td>0.442964</td>\n",
       "    </tr>\n",
       "    <tr>\n",
       "      <th>1078</th>\n",
       "      <td>-1.356795</td>\n",
       "      <td>-0.623586</td>\n",
       "      <td>-1.356749</td>\n",
       "      <td>-1.356941</td>\n",
       "    </tr>\n",
       "    <tr>\n",
       "      <th>7794</th>\n",
       "      <td>0.971610</td>\n",
       "      <td>-0.623586</td>\n",
       "      <td>0.986268</td>\n",
       "      <td>0.983679</td>\n",
       "    </tr>\n",
       "    <tr>\n",
       "      <th>6109</th>\n",
       "      <td>2.697485</td>\n",
       "      <td>-0.623586</td>\n",
       "      <td>2.724992</td>\n",
       "      <td>2.756426</td>\n",
       "    </tr>\n",
       "    <tr>\n",
       "      <th>8166</th>\n",
       "      <td>0.464563</td>\n",
       "      <td>-0.623586</td>\n",
       "      <td>0.472635</td>\n",
       "      <td>0.488621</td>\n",
       "    </tr>\n",
       "    <tr>\n",
       "      <th>360</th>\n",
       "      <td>-1.411423</td>\n",
       "      <td>-0.623586</td>\n",
       "      <td>-1.411747</td>\n",
       "      <td>-1.411239</td>\n",
       "    </tr>\n",
       "    <tr>\n",
       "      <th>977</th>\n",
       "      <td>-1.388955</td>\n",
       "      <td>-0.623586</td>\n",
       "      <td>-1.389127</td>\n",
       "      <td>-1.388907</td>\n",
       "    </tr>\n",
       "    <tr>\n",
       "      <th>8289</th>\n",
       "      <td>0.283807</td>\n",
       "      <td>-0.623586</td>\n",
       "      <td>0.235389</td>\n",
       "      <td>0.274600</td>\n",
       "    </tr>\n",
       "    <tr>\n",
       "      <th>3613</th>\n",
       "      <td>-0.796243</td>\n",
       "      <td>-0.623586</td>\n",
       "      <td>-0.792401</td>\n",
       "      <td>-0.799777</td>\n",
       "    </tr>\n",
       "    <tr>\n",
       "      <th>8693</th>\n",
       "      <td>0.936257</td>\n",
       "      <td>-0.623586</td>\n",
       "      <td>0.951835</td>\n",
       "      <td>0.955842</td>\n",
       "    </tr>\n",
       "    <tr>\n",
       "      <th>3910</th>\n",
       "      <td>-0.708994</td>\n",
       "      <td>-0.623586</td>\n",
       "      <td>-0.704560</td>\n",
       "      <td>-0.713055</td>\n",
       "    </tr>\n",
       "    <tr>\n",
       "      <th>2312</th>\n",
       "      <td>-1.011815</td>\n",
       "      <td>-0.623586</td>\n",
       "      <td>-1.009433</td>\n",
       "      <td>-1.014046</td>\n",
       "    </tr>\n",
       "    <tr>\n",
       "      <th>13344</th>\n",
       "      <td>1.058923</td>\n",
       "      <td>0.568293</td>\n",
       "      <td>1.061401</td>\n",
       "      <td>1.048509</td>\n",
       "    </tr>\n",
       "    <tr>\n",
       "      <th>1586</th>\n",
       "      <td>-1.276962</td>\n",
       "      <td>-0.623586</td>\n",
       "      <td>-1.276375</td>\n",
       "      <td>-1.277590</td>\n",
       "    </tr>\n",
       "    <tr>\n",
       "      <th>3877</th>\n",
       "      <td>-0.708998</td>\n",
       "      <td>-0.623586</td>\n",
       "      <td>-0.704564</td>\n",
       "      <td>-0.713059</td>\n",
       "    </tr>\n",
       "  </tbody>\n",
       "</table>\n",
       "</div>"
      ],
      "text/plain": [
       "           Open    Volume       Low      High\n",
       "12732  0.451176  1.327331  0.455107  0.442964\n",
       "1078  -1.356795 -0.623586 -1.356749 -1.356941\n",
       "7794   0.971610 -0.623586  0.986268  0.983679\n",
       "6109   2.697485 -0.623586  2.724992  2.756426\n",
       "8166   0.464563 -0.623586  0.472635  0.488621\n",
       "360   -1.411423 -0.623586 -1.411747 -1.411239\n",
       "977   -1.388955 -0.623586 -1.389127 -1.388907\n",
       "8289   0.283807 -0.623586  0.235389  0.274600\n",
       "3613  -0.796243 -0.623586 -0.792401 -0.799777\n",
       "8693   0.936257 -0.623586  0.951835  0.955842\n",
       "3910  -0.708994 -0.623586 -0.704560 -0.713055\n",
       "2312  -1.011815 -0.623586 -1.009433 -1.014046\n",
       "13344  1.058923  0.568293  1.061401  1.048509\n",
       "1586  -1.276962 -0.623586 -1.276375 -1.277590\n",
       "3877  -0.708998 -0.623586 -0.704564 -0.713059"
      ]
     },
     "execution_count": 59,
     "metadata": {},
     "output_type": "execute_result"
    }
   ],
   "source": [
    "X_test.head(15)"
   ]
  },
  {
   "cell_type": "code",
   "execution_count": null,
   "id": "2583ce6e",
   "metadata": {},
   "outputs": [],
   "source": []
  }
 ],
 "metadata": {
  "kernelspec": {
   "display_name": "Python 3 (ipykernel)",
   "language": "python",
   "name": "python3"
  },
  "language_info": {
   "codemirror_mode": {
    "name": "ipython",
    "version": 3
   },
   "file_extension": ".py",
   "mimetype": "text/x-python",
   "name": "python",
   "nbconvert_exporter": "python",
   "pygments_lexer": "ipython3",
   "version": "3.10.2"
  }
 },
 "nbformat": 4,
 "nbformat_minor": 5
}
